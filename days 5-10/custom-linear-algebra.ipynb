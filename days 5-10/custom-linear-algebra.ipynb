{
 "cells": [
  {
   "cell_type": "code",
   "execution_count": 1,
   "metadata": {},
   "outputs": [],
   "source": [
    "from typing import List, Union\n",
    "import math"
   ]
  },
  {
   "cell_type": "code",
   "execution_count": 2,
   "metadata": {},
   "outputs": [],
   "source": [
    "class Vector:\n",
    "    def __init__(self, data: List[float]):\n",
    "        self.data: List[float] = data\n",
    "        self.size: int = len(data)\n",
    "\n",
    "\n",
    "    def __add__(self, other: 'Vector') -> 'Vector':\n",
    "        assert isinstance(other, Vector), \"Values must be instances of Vector\"\n",
    "        assert self.size == other.size, \"Vectors must have the same size for addition\"\n",
    "        return Vector([x + y for x, y in zip(self.data, other.data)])\n",
    "   \n",
    "   \n",
    "    def __sub__(self, other: 'Vector') -> 'Vector':\n",
    "        assert isinstance(other, Vector), \"Values must be instances of Vector\"\n",
    "        assert self.size == other.size, \"Vectors must have the same size for subtraction\"\n",
    "        return Vector([x - y for x, y in zip(self.data, other.data)])\n",
    "\n",
    "\n",
    "    def __mul__(self, scalar: Union[int, float]) -> 'Vector':\n",
    "        return Vector([scalar * x for x in self.data])\n",
    "\n",
    "\n",
    "    def __rmul__(self, scalar: Union[int, float]) -> 'Vector':\n",
    "        return self * scalar\n",
    "\n",
    "\n",
    "    def __getitem__(self, index: Union[int, slice]) -> float:\n",
    "        return self.data[index]\n",
    "\n",
    "\n",
    "    def __str__(self) -> str:\n",
    "        return f\"Vector({self.data})\"\n",
    "\n",
    "\n",
    "    def __repr__(self) -> str:\n",
    "        return str(self)\n",
    "\n",
    "\n",
    "    def dot(self, other: 'Vector') -> Union[int, float]:\n",
    "        assert isinstance(other, Vector), \"Values must be instances of Vector\"\n",
    "        assert self.size == other.size, \"Vectors must have the same size for dot product\"\n",
    "        return sum([x * y for x, y in zip(self.data, other.data)])\n",
    "\n",
    "\n",
    "    def cross(self, other: 'Vector') -> 'Vector':\n",
    "        assert isinstance(other, Vector), \"Values must be instances of Vector\"\n",
    "        assert self.size == other.size == 3, \"Cross product is defined only for 3-dimensional vectors\"\n",
    "        return Vector([self.data[1] * other.data[2] - self.data[2] * other.data[1],\n",
    "                       self.data[2] * other.data[0] - self.data[0] * other.data[2],\n",
    "                       self.data[0] * other.data[1] - self.data[1] * other.data[0]])\n",
    "\n",
    "\n",
    "    def magnitude(self) -> Union[int, float]:\n",
    "        return sum(x ** 2 for x in self.data) ** 0.5\n",
    "\n",
    "\n",
    "    def normalize(self) -> 'Vector':\n",
    "        mag = self.magnitude()\n",
    "        if mag == 0:\n",
    "            return Vector([0] * self.size)\n",
    "        else:\n",
    "            return Vector([x / mag for x in self.data])\n",
    "\n",
    "\n",
    "    @classmethod\n",
    "    def zero(cls, size: int) -> 'Vector':\n",
    "        return Vector([0] * size)\n",
    "\n",
    "\n",
    "    def is_zero(self) -> bool:\n",
    "        for value in self.data:\n",
    "            if value != 0:\n",
    "                return False\n",
    "        return True\n",
    "\n",
    "\n",
    "    def unit(self) -> 'Vector':\n",
    "        return self.normalize()\n",
    "\n",
    "\n",
    "    def is_unit(self) -> bool:\n",
    "        return math.isclose(self.magnitude(), 1)\n",
    "\n",
    "\n",
    "    def angle(self, other: 'Vector') -> float:\n",
    "        assert not self.is_zero() and not other.is_zero(), \"Vectors must not be zeros\"\n",
    "        return math.acos(self.dot(other) / (self.magnitude() * other.magnitude()))\n",
    "\n",
    "\n",
    "    def is_parallel(self, other: 'Vector') -> bool:\n",
    "        return math.isclose(self.angle(other), 0)\n",
    "\n",
    "\n",
    "    def is_orthogonal(self, other: 'Vector') -> bool:\n",
    "        return math.isclose(self.dot(other), 0)\n",
    "\n",
    "\n",
    "    def distance(self, other: 'Vector') -> float:\n",
    "        return (self - other).magnitude()\n"
   ]
  },
  {
   "cell_type": "code",
   "execution_count": 3,
   "metadata": {},
   "outputs": [],
   "source": [
    "class Matrix:\n",
    "    def __init__(self, data: List[List[float]]):\n",
    "        assert all(len(row) == len(data[0]) for row in data), \"All rows must have the same number of elements\"\n",
    "        self.data: List[List[float]] = data\n",
    "        self.rows: int = len(data)\n",
    "        self.columns: int = len(data[0])\n",
    "        self.shape: tuple = self.rows, self.columns\n",
    "\n",
    "    def __add__(self, other: 'Matrix') -> 'Matrix':\n",
    "        assert isinstance(other, Matrix), \"Values must be instances of Matrix\"\n",
    "        assert (self.rows, self.columns) == (other.rows, other.columns), \"Matrices must have the same size for addition\"\n",
    "        return Matrix([[ai + bi for ai, bi in zip(a, b)] for a, b in zip(self.data, other.data)])\n",
    "\n",
    "\n",
    "    def __sub__(self, other: 'Matrix') -> 'Matrix':\n",
    "        assert isinstance(other, Matrix), \"Values must be instances of Matrix\"\n",
    "        assert (self.rows, self.columns) == (other.rows, other.columns), \"Matrices must have the same size for subtraction\"\n",
    "        return Matrix([[ai - bi for ai, bi in zip(a, b)] for a, b in zip(self.data, other.data)])\n",
    "\n",
    "\n",
    "    def __mul__(self, other: Union['Matrix', int, float]) -> Union['Matrix', 'Vector']:\n",
    "        assert isinstance(other, (Matrix, int, float, Vector)), \"Values must be instances of Matrix, Vector or scalars\"\n",
    "        if isinstance(other, (int, float)):\n",
    "            return Matrix([[ai * other for ai in a] for a in self.data])\n",
    "        \n",
    "        result = []\n",
    "        if isinstance(other, Vector):\n",
    "            assert self.columns == other.size, \"Number of columns matrix must match the vector size\"\n",
    "            for i in range(self.rows):\n",
    "                value = sum(self.data[i][k] * other.data[k] for k in range(self.columns))\n",
    "                result.append(value)\n",
    "            return Vector(result)\n",
    "            \n",
    "        assert self.columns == other.rows, \"Number of columns in the first matrix must match the number of rows in the second matrix\"\n",
    "        for i in range(self.rows):\n",
    "            row = []\n",
    "            for j in range(other.columns):\n",
    "                value = sum(self.data[i][k] * other.data[k][j] for k in range(self.columns))\n",
    "                row.append(value)\n",
    "            result.append(row)\n",
    "        return Matrix(result)\n",
    "    \n",
    "    \n",
    "    def __rmul__(self, other: Union['Matrix', int, float]) -> 'Matrix':\n",
    "        return self * other\n",
    "\n",
    "\n",
    "    def __eq__(self, other: 'Matrix') -> bool:\n",
    "        assert isinstance(other, Matrix), \"Values must be instances of Matrix\"\n",
    "        return self.data == other.data\n",
    "\n",
    "    \n",
    "    def __ne__(self, other: 'Matrix') -> bool:\n",
    "        return not self == other\n",
    "\n",
    "\n",
    "    def __getitem__(self, index: Union[int, tuple[int, int]]) -> Union[float, 'Vector']:\n",
    "        assert isinstance(index, (int, tuple)), \"Indexes must be integers or tuples of integers\"\n",
    "        if isinstance(index, int):\n",
    "            return Vector(data=self.data[index])\n",
    "        elif isinstance(index, tuple):\n",
    "            assert isinstance(index[0], (int, slice)), \"First index must be an integer or slice\"\n",
    "            assert isinstance(index[1], (int, slice)), \"Second index must be an integer or slice\"\n",
    "            if isinstance(index[0], int) and isinstance(index[1], int):\n",
    "                return self.data[index[0]][index[1]]\n",
    "            elif isinstance(index[0], int) and isinstance(index[1], slice):\n",
    "                return Vector(data=self.data[index[0]][index[1]])\n",
    "            elif isinstance(index[0], slice) and isinstance(index[1], int):\n",
    "                return Vector(data=[row[index[1]] for row in self.data[index[0]]])\n",
    "\n",
    "\n",
    "    def __setitem__(self, index: Union[int, tuple[int, int]], value: Union[float, int, 'Vector', List[float]]):\n",
    "        assert isinstance(index, (int, tuple)), \"Indexes must be integers or tuples of integers\"\n",
    "        if isinstance(index, int):\n",
    "            if isinstance(value, (float, int)):\n",
    "                self.data[index] = value\n",
    "            elif isinstance(value, Vector):\n",
    "                self.data[index] = value.data\n",
    "            elif isinstance(value, list):\n",
    "                assert all(isinstance(x, (float, int)) for x in value), \"List elements must be floats\"\n",
    "                self.data[index] = value\n",
    "            else:\n",
    "                raise ValueError(\"Value must be a float, Vector, or list of floats\")\n",
    "        elif isinstance(index, tuple):\n",
    "            assert isinstance(index[0], (int, slice)), \"First index must be an integer or slice\"\n",
    "            assert isinstance(index[1], (int, slice)), \"Second index must be an integer or slice\"\n",
    "            if isinstance(index[0], int) and isinstance(index[1], int):\n",
    "                if isinstance(value, (float, int)):\n",
    "                    self.data[index[0]][index[1]] = value\n",
    "                elif isinstance(value, Vector):\n",
    "                    self.data[index[0]][index[1]] = value.data\n",
    "                elif isinstance(value, list):\n",
    "                    assert all(isinstance(x, (float, int)) for x in value), \"List elements must be floats\"\n",
    "                    self.data[index[0]][index[1]] = value\n",
    "                else:\n",
    "                    raise ValueError(\"Value must be a float, Vector, or list of floats\")\n",
    "            elif isinstance(index[0], int) and isinstance(index[1], slice):\n",
    "                if isinstance(value, Vector):\n",
    "                    self.data[index[0]][index[1]] = value.data\n",
    "                elif isinstance(value, list):\n",
    "                    assert all(isinstance(x, (float, int)) for x in value), \"List elements must be floats\"\n",
    "                    self.data[index[0]][index[1]] = value\n",
    "                else:\n",
    "                    raise ValueError(\"Value must be a Vector or list of floats\")\n",
    "            elif isinstance(index[0], slice) and isinstance(index[1], int):\n",
    "                if isinstance(value, Vector):\n",
    "                    assert len(value.data) == len(range(*index[0].indices(self.rows))), \"Vector size must match the slice length\"\n",
    "                    for i, row_index in enumerate(range(*index[0].indices(self.rows))):\n",
    "                        self.data[row_index][index[1]] = value.data[i]\n",
    "                elif isinstance(value, list):\n",
    "                    assert all(isinstance(x, (float, int)) for x in value), \"List elements must be floats\"\n",
    "                    assert len(value) == len(range(*index[0].indices(self.rows))), \"List length must match the slice length\"\n",
    "                    for i, row_index in enumerate(range(*index[0].indices(self.rows))):\n",
    "                        self.data[row_index][index[1]] = value[i]\n",
    "                else:\n",
    "                    raise ValueError(\"Value must be a Vector or list of floats\")\n",
    "\n",
    "\n",
    "    def __str__(self) -> str:\n",
    "        return f\"Matrix({self.data})\"\n",
    "\n",
    "\n",
    "    def __repr__(self) -> str:\n",
    "        return str(self)\n",
    "\n",
    "\n",
    "    def transpose(self) -> 'Matrix':\n",
    "        result = [[self.data[j][i] for j in range(self.rows)] for i in range(self.columns)]\n",
    "        return Matrix(result)\n",
    "\n",
    "\n",
    "    def row(self, index: int) -> 'Vector':\n",
    "        return self[index]\n",
    "\n",
    "\n",
    "    def column(self, index: int) -> 'Vector':\n",
    "        return self[:, index]\n",
    "\n",
    "\n",
    "    def trace(self) -> Union[int, float]:\n",
    "        assert self.is_square(), \"Matrix must be square to compute trace\"\n",
    "        return sum(self.data[i][i] for i in range(self.rows))\n",
    "\n",
    "\n",
    "    def minor(self, i: int, j: int) -> 'Matrix':\n",
    "        return Matrix([row[:j] + row[j + 1:] for row in (self.data[:i] + self.data[i + 1:])])\n",
    "\n",
    "\n",
    "    def determinant(self) -> Union[int, float]:\n",
    "        assert self.is_square(), \"Matrix must be square to compute determinant\"\n",
    "        if self.rows == 1:\n",
    "            return self.data[0][0]\n",
    "        if self.rows == 2:\n",
    "            return self.data[0][0] * self.data[1][1] - self.data[0][1] * self.data[1][0]\n",
    "        \n",
    "        if self.is_diagonal() or self.is_upper_triangular() or self.is_lower_triangular():\n",
    "            det = 1\n",
    "            for i in range(self.rows):\n",
    "                det *= self.data[i][i]\n",
    "            return det\n",
    "               \n",
    "        det = sum((-1) ** j * self.data[0][j] * self.minor(0, j).determinant() for j in range(self.columns))\n",
    "        return det\n",
    "\n",
    "\n",
    "    def inverse(self) -> 'Matrix':\n",
    "        assert self.is_square(), \"Matrix must be square to compute inverse\"\n",
    "        \n",
    "        det = self.determinant()\n",
    "        assert det != 0, \"The matrix is not invertible\"\n",
    "        \n",
    "        inverse = Matrix.zero(self.rows, self.columns)\n",
    "\n",
    "        for i in range(self.rows):\n",
    "            for j in range(self.columns):\n",
    "                cofactor_ij = (-1) ** (i + j) * self.minor(i, j).determinant()\n",
    "                inverse.data[j][i] = cofactor_ij / det\n",
    "\n",
    "        return inverse\n",
    "\n",
    "\n",
    "\n",
    "    @classmethod\n",
    "    def identity(cls, size: int) -> 'Matrix':\n",
    "        return Matrix([[1 if i == j else 0 for j in range(size)] for i in range(size)])\n",
    "\n",
    "\n",
    "    @classmethod\n",
    "    def zero(cls, rows: int, columns: int) -> 'Matrix':\n",
    "        return Matrix([[0] * columns for _ in range(rows)])\n",
    "\n",
    "\n",
    "    def is_square(self) -> bool:\n",
    "        return self.rows == self.columns\n",
    "\n",
    "\n",
    "    def is_symmetric(self) -> bool:\n",
    "        return self == self.transpose()\n",
    "    \n",
    "    \n",
    "    def is_orthogonal(self) -> bool:\n",
    "        return self.inverse() == self.transpose()\n",
    "\n",
    "    \n",
    "    def is_diagonal(self) -> bool:\n",
    "        assert self.is_square(), \"Matrix must be square first\"\n",
    "        for i in range(self.rows):\n",
    "            for j in range(self.columns):\n",
    "                if i != j:\n",
    "                    if self.data[i][j] != 0:\n",
    "                        return False\n",
    "        return True\n",
    "\n",
    "\n",
    "    def is_upper_triangular(self) -> bool:\n",
    "        assert self.is_square(), \"Matrix must be square first\"\n",
    "        for i in range(1, self.rows):\n",
    "            for j in range(i):\n",
    "                if self.data[i][j] != 0:\n",
    "                    return False\n",
    "        return True\n",
    "\n",
    "\n",
    "    def is_lower_triangular(self) -> bool:\n",
    "        assert self.is_square(), \"Matrix must be square first\"\n",
    "        for i in range(0, self.rows - 1):\n",
    "            for j in range(i+1, self.columns):\n",
    "                if self.data[i][j] != 0:\n",
    "                    return False\n",
    "        return True\n",
    "    \n",
    "    \n",
    "    def solve_by_forward_substitution(self, vector: 'Vector'):\n",
    "        assert vector.size == self.columns, \"Vector size must match the number of columns\"\n",
    "        assert self.is_lower_triangular(), \"Forward substitution requires the matrix to be lower triangular\"\n",
    "        solution = []\n",
    "        for row_index in range(vector.size):\n",
    "            assert self.data[row_index][row_index] != 0, \"Singular matrix: No unique solution exists\"\n",
    "            solution_value = (vector[row_index] - sum(self.data[row_index][column_index] * solution[column_index] for column_index in range(row_index))) / self.data[row_index][row_index]\n",
    "            solution.append(solution_value)\n",
    "        return Vector(solution)\n",
    "\n",
    "\n",
    "    def solve_by_backward_substitution(self, vector: 'Vector'):\n",
    "        assert vector.size == self.columns, \"Vector size must match the number of columns\"\n",
    "        assert self.is_upper_triangular(), \"Backward substitution requires the matrix to be upper triangular\"\n",
    "        solution = [None] * vector.size\n",
    "        for row_index in range(vector.size - 1, -1, -1):\n",
    "            assert self.data[row_index][row_index] != 0, \"Singular matrix: No unique solution exists\"\n",
    "            solution_value = vector[row_index]\n",
    "            for column_index in range(row_index + 1, vector.size):\n",
    "                solution_value -= self.data[row_index][column_index] * solution[column_index]\n",
    "            solution[row_index] = solution_value / self.data[row_index][row_index]\n",
    "        return Vector(solution)\n",
    "    \n",
    "    \n",
    "    def copy(self):\n",
    "        return Matrix([row.copy() for row in self.data])\n",
    "    \n",
    "    \n",
    "    def LU(self):\n",
    "        assert self.is_square(), \"Matrix must be square first\"\n",
    "        u = self.copy()\n",
    "        l = Matrix.identity(self.rows)\n",
    "        for j in range(self.columns):\n",
    "            assert u[j, j] != 0, \"Matrix either requires PLU or is Singular\"\n",
    "            for i in range(j+1, self.rows):\n",
    "                l[i, j] = u[i, j] / u[j, j]\n",
    "                u[i, j:] -= l[i, j] * u[j, j:]\n",
    "        return l, u\n",
    "\n",
    "\n",
    "    def PLU(self):\n",
    "        assert self.is_square(), \"Matrix must be square first\"\n",
    "        u = self.copy()\n",
    "        l = Matrix.identity(self.rows)\n",
    "        p = Matrix.identity(self.rows)\n",
    "        for j in range(self.columns):\n",
    "            if u[j, j] == 0:\n",
    "                permuted = False\n",
    "                for k in range(j, self.rows):\n",
    "                    if u[k, j] != 0:\n",
    "                        u[j], u[k] = u[k], u[j]\n",
    "                        p[j, j], p[k, k] = 0, 0\n",
    "                        p[k, j], p[j, k] = 1, 1\n",
    "                        permuted = True\n",
    "                        break\n",
    "                assert permuted, \"Singular matrix: LU decomposition failed\"\n",
    "            \n",
    "                \n",
    "            for i in range(j+1, self.rows):\n",
    "                l[i, j] = u[i, j] / u[j, j]\n",
    "                u[i, j:] -= l[i, j] * u[j, j:]\n",
    "            \n",
    "        return p, l, u\n",
    "    \n",
    "    \n",
    "    def compute_det_lu(self):\n",
    "        assert self.is_square(), \"Matrix must be square first\"\n",
    "        u = self.copy()\n",
    "        l = Matrix.identity(self.rows)\n",
    "        p = 0\n",
    "        for j in range(self.columns):\n",
    "            if u[j, j] == 0:\n",
    "                permuted = False\n",
    "                for k in range(j, self.rows):\n",
    "                    if u[k, j] != 0:\n",
    "                        u[j], u[k] = u[k], u[j]\n",
    "                        p += 1\n",
    "                        permuted = True\n",
    "                        break\n",
    "                if not permuted:\n",
    "                    return 0\n",
    "                     \n",
    "            for i in range(j+1, self.rows):\n",
    "                l[i, j] = u[i, j] / u[j, j]\n",
    "                u[i, j:] -= l[i, j] * u[j, j:]\n",
    "        \n",
    "        det = (-1)**p\n",
    "        for i in range(self.rows):\n",
    "            det *= u[i, i]\n",
    "        \n",
    "        return det\n",
    "    \n",
    "    \n",
    "    def compute_inverse_lu(self):\n",
    "        assert self.is_square(), \"Matrix must be square first\"\n",
    "        u = self.copy()\n",
    "        l = Matrix.identity(self.rows)\n",
    "        p = Matrix.identity(self.rows)\n",
    "        for j in range(self.columns):\n",
    "            if u[j, j] == 0:\n",
    "                permuted = False\n",
    "                for k in range(j, self.rows):\n",
    "                    if u[k, j] != 0:\n",
    "                        u[j], u[k] = u[k], u[j]\n",
    "                        p[j, j], p[k, k] = 0, 0\n",
    "                        p[k, j], p[j, k] = 1, 1\n",
    "                        permuted = True\n",
    "                        break\n",
    "                assert permuted, \"Matrix is singular (zero pivot encountered)\"   \n",
    "                     \n",
    "            for i in range(j+1, self.rows):\n",
    "                l[i, j] = u[i, j] / u[j, j]\n",
    "                u[i, j:] -= l[i, j] * u[j, j:]\n",
    "        \n",
    "        inverse = Matrix.zero(self.rows, self.columns)\n",
    "\n",
    "        \n",
    "        for i in range(self.rows):\n",
    "            vector = p.column(i)\n",
    "            first = l.solve_by_forward_substitution(vector)\n",
    "            second = u.solve_by_backward_substitution(first)\n",
    "            inverse[:, i] = second\n",
    "        \n",
    "        return inverse\n",
    "    \n",
    "    \n",
    "    def solve_by_lu(self, vector: 'Vector'):\n",
    "        assert self.is_square(), \"Matrix must be square first\"\n",
    "        u = self.copy()\n",
    "        l = Matrix.identity(self.rows)\n",
    "        p = Matrix.identity(self.rows)\n",
    "        for j in range(self.columns):\n",
    "            if u[j, j] == 0:\n",
    "                permuted = False\n",
    "                for k in range(j, self.rows):\n",
    "                    if u[k, j] != 0:\n",
    "                        u[j], u[k] = u[k], u[j]\n",
    "                        p[j, j], p[k, k] = 0, 0\n",
    "                        p[k, j], p[j, k] = 1, 1\n",
    "                        permuted = True\n",
    "                        break\n",
    "                assert permuted, \"Singular matrix: No unique solution exists\"   \n",
    "                     \n",
    "            for i in range(j+1, self.rows):\n",
    "                l[i, j] = u[i, j] / u[j, j]\n",
    "                u[i, j:] -= l[i, j] * u[j, j:]\n",
    "        \n",
    "        b = p*vector\n",
    "        first = l.solve_by_forward_substitution(b)\n",
    "        second = u.solve_by_backward_substitution(first)\n",
    "        \n",
    "        return second\n",
    "    \n",
    "    \n",
    "    def cholesky(self):\n",
    "        assert self.is_symmetric(), \"The matrix must be symmetric to do Cholesky's decomposition\"\n",
    "        l = Matrix.zero(self.rows, self.columns)\n",
    "        for i in range(self.rows):\n",
    "            for j in range(i+1):\n",
    "                s = 0\n",
    "                for k in range(j):\n",
    "                    s += l[i, k] * l[j, k]\n",
    "                \n",
    "                value = self[i, j] - s\n",
    "                \n",
    "                if (i == j):\n",
    "                    assert value > 0, \"The matrix must be positive-definite to do Cholesky's decomposition\"\n",
    "                    l[i, j] = value ** 0.5\n",
    "                else:\n",
    "                    l[i, j] = value / l[j, j]\n",
    "            \n",
    "        return l        \n",
    "\n",
    "\n",
    "    def solve_by_cholesky(self, vector: 'Vector'):\n",
    "        assert self.is_symmetric(), \"The matrix must be symmetric to do Cholesky's decomposition\"\n",
    "        l = Matrix.zero(self.rows, self.columns)\n",
    "        for i in range(self.rows):\n",
    "            for j in range(i+1):\n",
    "                s = 0\n",
    "                for k in range(j):\n",
    "                    s += l[i, k] * l[j, k]\n",
    "                \n",
    "                value = self[i, j] - s\n",
    "                \n",
    "                if (i == j):\n",
    "                    assert value > 0, \"The matrix must be positive-definite to do Cholesky's decomposition\"\n",
    "                    l[i, j] = value ** 0.5\n",
    "                else:\n",
    "                    l[i, j] = value / l[j, j]\n",
    "        \n",
    "        first = l.solve_by_forward_substitution(vector)\n",
    "        second = l.transpose().solve_by_backward_substitution(first)        \n",
    "        \n",
    "        return second"
   ]
  },
  {
   "cell_type": "code",
   "execution_count": 4,
   "metadata": {},
   "outputs": [
    {
     "data": {
      "text/plain": [
       "(4, 4)"
      ]
     },
     "execution_count": 4,
     "metadata": {},
     "output_type": "execute_result"
    }
   ],
   "source": [
    "(Matrix([[1], [2], [3], [4]]) * Matrix([[1, 2, 3, 4]])).shape"
   ]
  },
  {
   "cell_type": "code",
   "execution_count": 5,
   "metadata": {},
   "outputs": [],
   "source": [
    "# Create some matrices for testing\n",
    "matrix1 = Matrix([[1, 2], [3, 4]])\n",
    "matrix2 = Matrix([[5, 6], [7, 8]])\n",
    "matrix3 = Matrix([[1, 2, 3], [4, 5, 6], [7, 8, 9]])\n",
    "matrix4 = Matrix([[2, 0, 0], [0, 3, 0], [0, 0, 4]])\n",
    "matrix5 = Matrix([[1, 2], [3, 4], [5, 6]])\n",
    "matrix6 = Matrix([[1, 0], [0, 1]])"
   ]
  },
  {
   "cell_type": "code",
   "execution_count": 6,
   "metadata": {},
   "outputs": [
    {
     "data": {
      "text/plain": [
       "Matrix([[6, 8], [10, 12]])"
      ]
     },
     "execution_count": 6,
     "metadata": {},
     "output_type": "execute_result"
    }
   ],
   "source": [
    "matrix1 + matrix2"
   ]
  },
  {
   "cell_type": "code",
   "execution_count": 7,
   "metadata": {},
   "outputs": [
    {
     "data": {
      "text/plain": [
       "Matrix([[4, 4], [4, 4]])"
      ]
     },
     "execution_count": 7,
     "metadata": {},
     "output_type": "execute_result"
    }
   ],
   "source": [
    "matrix2 - matrix1"
   ]
  },
  {
   "cell_type": "code",
   "execution_count": 8,
   "metadata": {},
   "outputs": [
    {
     "data": {
      "text/plain": [
       "Matrix([[2, 4], [6, 8]])"
      ]
     },
     "execution_count": 8,
     "metadata": {},
     "output_type": "execute_result"
    }
   ],
   "source": [
    "matrix1 * 2"
   ]
  },
  {
   "cell_type": "code",
   "execution_count": 9,
   "metadata": {},
   "outputs": [
    {
     "data": {
      "text/plain": [
       "Matrix([[19, 22], [43, 50]])"
      ]
     },
     "execution_count": 9,
     "metadata": {},
     "output_type": "execute_result"
    }
   ],
   "source": [
    "matrix1 * matrix2"
   ]
  },
  {
   "cell_type": "code",
   "execution_count": 10,
   "metadata": {},
   "outputs": [
    {
     "data": {
      "text/plain": [
       "Matrix([[1, 4, 7], [2, 5, 8], [3, 6, 9]])"
      ]
     },
     "execution_count": 10,
     "metadata": {},
     "output_type": "execute_result"
    }
   ],
   "source": [
    "matrix3.transpose()"
   ]
  },
  {
   "cell_type": "code",
   "execution_count": 11,
   "metadata": {},
   "outputs": [
    {
     "data": {
      "text/plain": [
       "15"
      ]
     },
     "execution_count": 11,
     "metadata": {},
     "output_type": "execute_result"
    }
   ],
   "source": [
    "matrix3.trace()"
   ]
  },
  {
   "cell_type": "code",
   "execution_count": 12,
   "metadata": {},
   "outputs": [
    {
     "data": {
      "text/plain": [
       "24"
      ]
     },
     "execution_count": 12,
     "metadata": {},
     "output_type": "execute_result"
    }
   ],
   "source": [
    "matrix4.determinant()"
   ]
  },
  {
   "cell_type": "code",
   "execution_count": 13,
   "metadata": {},
   "outputs": [
    {
     "data": {
      "text/plain": [
       "Matrix([[3, 6], [9, 12]])"
      ]
     },
     "execution_count": 13,
     "metadata": {},
     "output_type": "execute_result"
    }
   ],
   "source": [
    "3 * matrix1"
   ]
  },
  {
   "cell_type": "code",
   "execution_count": 14,
   "metadata": {},
   "outputs": [
    {
     "data": {
      "text/plain": [
       "Matrix([[1.0, 0.0], [0.0, 1.0]])"
      ]
     },
     "execution_count": 14,
     "metadata": {},
     "output_type": "execute_result"
    }
   ],
   "source": [
    "matrix6.inverse()"
   ]
  },
  {
   "cell_type": "code",
   "execution_count": 15,
   "metadata": {},
   "outputs": [
    {
     "data": {
      "text/plain": [
       "Matrix([[1, 0, 0], [0, 1, 0], [0, 0, 1]])"
      ]
     },
     "execution_count": 15,
     "metadata": {},
     "output_type": "execute_result"
    }
   ],
   "source": [
    "Matrix.identity(3)"
   ]
  },
  {
   "cell_type": "code",
   "execution_count": 16,
   "metadata": {},
   "outputs": [
    {
     "data": {
      "text/plain": [
       "Matrix([[0, 0, 0], [0, 0, 0]])"
      ]
     },
     "execution_count": 16,
     "metadata": {},
     "output_type": "execute_result"
    }
   ],
   "source": [
    "Matrix.zero(2, 3)"
   ]
  },
  {
   "cell_type": "code",
   "execution_count": 17,
   "metadata": {},
   "outputs": [
    {
     "data": {
      "text/plain": [
       "(True, False)"
      ]
     },
     "execution_count": 17,
     "metadata": {},
     "output_type": "execute_result"
    }
   ],
   "source": [
    "matrix1.is_square(), matrix5.is_square()"
   ]
  },
  {
   "cell_type": "code",
   "execution_count": 18,
   "metadata": {},
   "outputs": [
    {
     "data": {
      "text/plain": [
       "(False, True)"
      ]
     },
     "execution_count": 18,
     "metadata": {},
     "output_type": "execute_result"
    }
   ],
   "source": [
    "matrix1.is_symmetric(), matrix6.is_symmetric()"
   ]
  },
  {
   "cell_type": "code",
   "execution_count": 19,
   "metadata": {},
   "outputs": [],
   "source": [
    "matrix7 = Matrix([[4, 3, 2, 2], [0, 1, -3, 3], [0, -1, 3, 3], [0, 3, 1, 1]])"
   ]
  },
  {
   "cell_type": "code",
   "execution_count": 20,
   "metadata": {},
   "outputs": [
    {
     "data": {
      "text/plain": [
       "Matrix([[4, 3, 2, 2], [0, 1, -3, 3], [0, -1, 3, 3], [0, 3, 1, 1]])"
      ]
     },
     "execution_count": 20,
     "metadata": {},
     "output_type": "execute_result"
    }
   ],
   "source": [
    "matrix7"
   ]
  },
  {
   "cell_type": "code",
   "execution_count": 21,
   "metadata": {},
   "outputs": [
    {
     "data": {
      "text/plain": [
       "-240"
      ]
     },
     "execution_count": 21,
     "metadata": {},
     "output_type": "execute_result"
    }
   ],
   "source": [
    "matrix7.determinant()"
   ]
  },
  {
   "cell_type": "code",
   "execution_count": 22,
   "metadata": {},
   "outputs": [
    {
     "data": {
      "text/plain": [
       "True"
      ]
     },
     "execution_count": 22,
     "metadata": {},
     "output_type": "execute_result"
    }
   ],
   "source": [
    "Matrix.identity(6).inverse() == Matrix.identity(6)"
   ]
  },
  {
   "cell_type": "code",
   "execution_count": 23,
   "metadata": {},
   "outputs": [
    {
     "data": {
      "text/plain": [
       "True"
      ]
     },
     "execution_count": 23,
     "metadata": {},
     "output_type": "execute_result"
    }
   ],
   "source": [
    "Matrix.identity(6).is_upper_triangular()"
   ]
  },
  {
   "cell_type": "code",
   "execution_count": 24,
   "metadata": {},
   "outputs": [
    {
     "data": {
      "text/plain": [
       "False"
      ]
     },
     "execution_count": 24,
     "metadata": {},
     "output_type": "execute_result"
    }
   ],
   "source": [
    "matrix1.is_diagonal()"
   ]
  },
  {
   "cell_type": "code",
   "execution_count": 25,
   "metadata": {},
   "outputs": [
    {
     "data": {
      "text/plain": [
       "(False, True, False)"
      ]
     },
     "execution_count": 25,
     "metadata": {},
     "output_type": "execute_result"
    }
   ],
   "source": [
    "matrix8 = Matrix([[1, 2, 3],\n",
    "                  [0, 4, 5],\n",
    "                  [0, 0, 6]])\n",
    "\n",
    "matrix8.is_diagonal(), matrix8.is_upper_triangular(), matrix8.is_lower_triangular()"
   ]
  },
  {
   "cell_type": "code",
   "execution_count": 26,
   "metadata": {},
   "outputs": [
    {
     "data": {
      "text/plain": [
       "(False, False, True)"
      ]
     },
     "execution_count": 26,
     "metadata": {},
     "output_type": "execute_result"
    }
   ],
   "source": [
    "matrix9 = Matrix([[1, 0, 0],\n",
    "                  [4, 5, 0],\n",
    "                  [7, 8, 9]])\n",
    "\n",
    "matrix9.is_diagonal(), matrix9.is_upper_triangular(), matrix9.is_lower_triangular()"
   ]
  },
  {
   "cell_type": "code",
   "execution_count": 27,
   "metadata": {},
   "outputs": [
    {
     "data": {
      "text/plain": [
       "1"
      ]
     },
     "execution_count": 27,
     "metadata": {},
     "output_type": "execute_result"
    }
   ],
   "source": [
    "matrix9[0, 0]"
   ]
  },
  {
   "cell_type": "code",
   "execution_count": 28,
   "metadata": {},
   "outputs": [
    {
     "data": {
      "text/plain": [
       "Vector([0, 5, 8])"
      ]
     },
     "execution_count": 28,
     "metadata": {},
     "output_type": "execute_result"
    }
   ],
   "source": [
    "matrix9[:, 1]"
   ]
  },
  {
   "cell_type": "code",
   "execution_count": 29,
   "metadata": {},
   "outputs": [
    {
     "data": {
      "text/plain": [
       "Vector([0, 5, 8])"
      ]
     },
     "execution_count": 29,
     "metadata": {},
     "output_type": "execute_result"
    }
   ],
   "source": [
    "matrix9.column(1)"
   ]
  },
  {
   "cell_type": "code",
   "execution_count": 30,
   "metadata": {},
   "outputs": [],
   "source": [
    "matrix10 = Matrix([[3, 0, 0, 0], [-1, 1, 0, 0], [3, -2, -1, 0], [1, -2, 6, 2]])\n",
    "vector10 = Vector([5, 6, 4, 2])"
   ]
  },
  {
   "cell_type": "code",
   "execution_count": 31,
   "metadata": {},
   "outputs": [
    {
     "data": {
      "text/plain": [
       "Vector([1.6666666666666667, 7.666666666666667, -14.333333333333334, 50.833333333333336])"
      ]
     },
     "execution_count": 31,
     "metadata": {},
     "output_type": "execute_result"
    }
   ],
   "source": [
    "matrix10.solve_by_forward_substitution(vector10)"
   ]
  },
  {
   "cell_type": "code",
   "execution_count": 32,
   "metadata": {},
   "outputs": [
    {
     "data": {
      "text/plain": [
       "[[2, 6, -2, 1], [0, -1, -2, 3], [0, 0, 1, -1], [0, 0, 0, 3]]"
      ]
     },
     "execution_count": 32,
     "metadata": {},
     "output_type": "execute_result"
    }
   ],
   "source": [
    "list(reversed([list(reversed(i)) for i in matrix10.data]))"
   ]
  },
  {
   "cell_type": "code",
   "execution_count": 33,
   "metadata": {},
   "outputs": [
    {
     "data": {
      "text/plain": [
       "Vector([50.833333333333336, -14.333333333333336, 7.666666666666667, 1.6666666666666667])"
      ]
     },
     "execution_count": 33,
     "metadata": {},
     "output_type": "execute_result"
    }
   ],
   "source": [
    "matrix11 = Matrix(list(reversed([list(reversed(i)) for i in matrix10.data])))\n",
    "vector11 = Vector(vector10.data[::-1])\n",
    "matrix11.solve_by_backward_substitution(vector11)"
   ]
  },
  {
   "cell_type": "code",
   "execution_count": 34,
   "metadata": {},
   "outputs": [
    {
     "data": {
      "text/plain": [
       "Matrix([[1, 0, 0], [7, 1, 0], [4, 0, 1]])"
      ]
     },
     "execution_count": 34,
     "metadata": {},
     "output_type": "execute_result"
    }
   ],
   "source": [
    "I3 = Matrix.identity(3)\n",
    "I3[:, 0] = [1, 7, 4]\n",
    "I3"
   ]
  },
  {
   "cell_type": "code",
   "execution_count": 35,
   "metadata": {},
   "outputs": [],
   "source": [
    "I3[0] = [2]*3"
   ]
  },
  {
   "cell_type": "code",
   "execution_count": 36,
   "metadata": {},
   "outputs": [],
   "source": [
    "I3[0, 1:] = [3, 4]"
   ]
  },
  {
   "cell_type": "code",
   "execution_count": 37,
   "metadata": {},
   "outputs": [
    {
     "data": {
      "text/plain": [
       "Matrix([[2, 3, 4], [7, 1, 0], [4, 0, 1]])"
      ]
     },
     "execution_count": 37,
     "metadata": {},
     "output_type": "execute_result"
    }
   ],
   "source": [
    "I3"
   ]
  },
  {
   "cell_type": "code",
   "execution_count": 38,
   "metadata": {},
   "outputs": [],
   "source": [
    "matrix12 = Matrix([[2, 1, 1, 0], [4, 3, 3, 1], [8, 7, 9, 5], [6, 7, 9, 8]])"
   ]
  },
  {
   "cell_type": "code",
   "execution_count": 39,
   "metadata": {},
   "outputs": [
    {
     "data": {
      "text/plain": [
       "(Matrix([[1, 0, 0, 0], [2.0, 1, 0, 0], [4.0, 3.0, 1, 0], [3.0, 4.0, 1.0, 1]]),\n",
       " Matrix([[2, 1, 1, 0], [0.0, 1.0, 1.0, 1.0], [0.0, 0.0, 2.0, 2.0], [0.0, 0.0, 0.0, 2.0]]))"
      ]
     },
     "execution_count": 39,
     "metadata": {},
     "output_type": "execute_result"
    }
   ],
   "source": [
    "l, u = matrix12.LU()\n",
    "l, u"
   ]
  },
  {
   "cell_type": "code",
   "execution_count": 40,
   "metadata": {},
   "outputs": [
    {
     "data": {
      "text/plain": [
       "Matrix([[2, 1, 1, 0], [4, 3, 3, 1], [8, 7, 9, 5], [6, 7, 9, 8]])"
      ]
     },
     "execution_count": 40,
     "metadata": {},
     "output_type": "execute_result"
    }
   ],
   "source": [
    "matrix12"
   ]
  },
  {
   "cell_type": "code",
   "execution_count": 41,
   "metadata": {},
   "outputs": [
    {
     "data": {
      "text/plain": [
       "(8, 8.0)"
      ]
     },
     "execution_count": 41,
     "metadata": {},
     "output_type": "execute_result"
    }
   ],
   "source": [
    "matrix12.determinant(), l.determinant()*u.determinant()"
   ]
  },
  {
   "cell_type": "code",
   "execution_count": 42,
   "metadata": {},
   "outputs": [
    {
     "data": {
      "text/plain": [
       "Matrix([[0.0, 0.0, 0.0, 0.0], [0.0, 0.0, 0.0, 0.0], [0.0, 0.0, 0.0, 0.0], [0.0, 0.0, 0.0, 0.0]])"
      ]
     },
     "execution_count": 42,
     "metadata": {},
     "output_type": "execute_result"
    }
   ],
   "source": [
    "l*u - matrix12"
   ]
  },
  {
   "cell_type": "code",
   "execution_count": 43,
   "metadata": {},
   "outputs": [],
   "source": [
    "matrix13 = Matrix([[0, 5, 22/3], [4, 2, 1], [2, 7, 9]])"
   ]
  },
  {
   "cell_type": "code",
   "execution_count": 44,
   "metadata": {},
   "outputs": [
    {
     "data": {
      "text/plain": [
       "(Matrix([[0, 1, 0], [1, 0, 0], [0, 0, 1]]),\n",
       " Matrix([[1, 0, 0], [0.0, 1, 0], [0.5, 1.2, 1]]),\n",
       " Matrix([[4, 2, 1], [0.0, 5.0, 7.333333333333333], [0.0, 0.0, -0.29999999999999893]]))"
      ]
     },
     "execution_count": 44,
     "metadata": {},
     "output_type": "execute_result"
    }
   ],
   "source": [
    "p, l, u = matrix13.PLU()\n",
    "p, l, u"
   ]
  },
  {
   "cell_type": "code",
   "execution_count": 45,
   "metadata": {},
   "outputs": [
    {
     "data": {
      "text/plain": [
       "Matrix([[0.0, 0.0, 0.0], [0.0, 0.0, 0.0], [0.0, 0.0, 0.0]])"
      ]
     },
     "execution_count": 45,
     "metadata": {},
     "output_type": "execute_result"
    }
   ],
   "source": [
    "p.transpose()*l*u - matrix13"
   ]
  },
  {
   "cell_type": "code",
   "execution_count": 46,
   "metadata": {},
   "outputs": [
    {
     "data": {
      "text/plain": [
       "Matrix([[-1, 1, 0], [1, -1, 0], [0, 0, 0]])"
      ]
     },
     "execution_count": 46,
     "metadata": {},
     "output_type": "execute_result"
    }
   ],
   "source": [
    "p.transpose() - Matrix.identity(3)"
   ]
  },
  {
   "cell_type": "code",
   "execution_count": 47,
   "metadata": {},
   "outputs": [
    {
     "data": {
      "text/plain": [
       "6.0"
      ]
     },
     "execution_count": 47,
     "metadata": {},
     "output_type": "execute_result"
    }
   ],
   "source": [
    "matrix13.determinant()"
   ]
  },
  {
   "cell_type": "code",
   "execution_count": 48,
   "metadata": {},
   "outputs": [
    {
     "data": {
      "text/plain": [
       "5.999999999999979"
      ]
     },
     "execution_count": 48,
     "metadata": {},
     "output_type": "execute_result"
    }
   ],
   "source": [
    "matrix13.compute_det_lu()"
   ]
  },
  {
   "cell_type": "code",
   "execution_count": 49,
   "metadata": {},
   "outputs": [
    {
     "data": {
      "text/plain": [
       "True"
      ]
     },
     "execution_count": 49,
     "metadata": {},
     "output_type": "execute_result"
    }
   ],
   "source": [
    "math.isclose(matrix13.determinant(), matrix13.compute_det_lu())"
   ]
  },
  {
   "cell_type": "code",
   "execution_count": 50,
   "metadata": {},
   "outputs": [
    {
     "data": {
      "text/plain": [
       "Matrix([[1.0, 0.0, 5.329070518200751e-15], [0.0, 0.9999999999999929, -7.105427357601002e-15], [0.0, 3.552713678800501e-15, 1.0]])"
      ]
     },
     "execution_count": 50,
     "metadata": {},
     "output_type": "execute_result"
    }
   ],
   "source": [
    "matrix13.compute_inverse_lu()*matrix13"
   ]
  },
  {
   "cell_type": "code",
   "execution_count": 51,
   "metadata": {},
   "outputs": [
    {
     "data": {
      "text/plain": [
       "Matrix([[1.8333333333333401, 1.0555555555555582, -1.6111111111111165], [-5.666666666666687, -2.4444444444444526, 4.888888888888905], [4.000000000000014, 1.6666666666666725, -3.333333333333345]])"
      ]
     },
     "execution_count": 51,
     "metadata": {},
     "output_type": "execute_result"
    }
   ],
   "source": [
    "matrix13.compute_inverse_lu()"
   ]
  },
  {
   "cell_type": "code",
   "execution_count": 52,
   "metadata": {},
   "outputs": [
    {
     "data": {
      "text/plain": [
       "Matrix([[1.8333333333333333, 1.0555555555555547, -1.611111111111111], [-5.666666666666667, -2.444444444444444, 4.888888888888888], [4.0, 1.6666666666666667, -3.3333333333333335]])"
      ]
     },
     "execution_count": 52,
     "metadata": {},
     "output_type": "execute_result"
    }
   ],
   "source": [
    "matrix13.inverse()"
   ]
  },
  {
   "cell_type": "code",
   "execution_count": 53,
   "metadata": {},
   "outputs": [
    {
     "data": {
      "text/plain": [
       "Vector([1.8333333333333401, -5.666666666666687, 4.000000000000014])"
      ]
     },
     "execution_count": 53,
     "metadata": {},
     "output_type": "execute_result"
    }
   ],
   "source": [
    "matrix13.solve_by_lu(Vector([1, 0, 0]))"
   ]
  },
  {
   "cell_type": "code",
   "execution_count": 54,
   "metadata": {},
   "outputs": [],
   "source": [
    "matrix14 = Matrix([[16, -8, -4], [-8, 29, 12], [-4, 12, 41]])"
   ]
  },
  {
   "cell_type": "code",
   "execution_count": 55,
   "metadata": {},
   "outputs": [
    {
     "data": {
      "text/plain": [
       "Matrix([[4.0, 0, 0], [-2.0, 5.0, 0], [-1.0, 2.0, 6.0]])"
      ]
     },
     "execution_count": 55,
     "metadata": {},
     "output_type": "execute_result"
    }
   ],
   "source": [
    "l = matrix14.cholesky()\n",
    "l"
   ]
  },
  {
   "cell_type": "code",
   "execution_count": 56,
   "metadata": {},
   "outputs": [
    {
     "data": {
      "text/plain": [
       "Matrix([[0.0, 0.0, 0.0], [0.0, 0.0, 0.0], [0.0, 0.0, 0.0]])"
      ]
     },
     "execution_count": 56,
     "metadata": {},
     "output_type": "execute_result"
    }
   ],
   "source": [
    "l*l.transpose() - matrix14"
   ]
  },
  {
   "cell_type": "code",
   "execution_count": 57,
   "metadata": {},
   "outputs": [],
   "source": [
    "vector14 = Vector([1, 2, 3])"
   ]
  },
  {
   "cell_type": "code",
   "execution_count": 58,
   "metadata": {},
   "outputs": [
    {
     "data": {
      "text/plain": [
       "Vector([0.115625, 0.075, 0.0625])"
      ]
     },
     "execution_count": 58,
     "metadata": {},
     "output_type": "execute_result"
    }
   ],
   "source": [
    "matrix14.solve_by_cholesky(vector14)"
   ]
  },
  {
   "cell_type": "code",
   "execution_count": 59,
   "metadata": {},
   "outputs": [
    {
     "data": {
      "text/plain": [
       "Vector([0.115625, 0.075, 0.0625])"
      ]
     },
     "execution_count": 59,
     "metadata": {},
     "output_type": "execute_result"
    }
   ],
   "source": [
    "matrix14.solve_by_lu(Vector([1, 2, 3]))"
   ]
  },
  {
   "cell_type": "code",
   "execution_count": 60,
   "metadata": {},
   "outputs": [
    {
     "data": {
      "text/plain": [
       "Vector([1.0, 1.9999999999999998, 3.0])"
      ]
     },
     "execution_count": 60,
     "metadata": {},
     "output_type": "execute_result"
    }
   ],
   "source": [
    "matrix14 * Vector([0.115625, 0.075, 0.0625])"
   ]
  }
 ],
 "metadata": {
  "kernelspec": {
   "display_name": "Python 3",
   "language": "python",
   "name": "python3"
  },
  "language_info": {
   "codemirror_mode": {
    "name": "ipython",
    "version": 3
   },
   "file_extension": ".py",
   "mimetype": "text/x-python",
   "name": "python",
   "nbconvert_exporter": "python",
   "pygments_lexer": "ipython3",
   "version": "3.11.6"
  }
 },
 "nbformat": 4,
 "nbformat_minor": 2
}
