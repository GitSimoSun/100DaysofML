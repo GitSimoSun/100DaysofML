{
 "cells": [
  {
   "cell_type": "code",
   "execution_count": 1,
   "metadata": {},
   "outputs": [],
   "source": [
    "import numpy as np\n",
    "import pprint as pp"
   ]
  },
  {
   "cell_type": "code",
   "execution_count": 2,
   "metadata": {},
   "outputs": [],
   "source": [
    "class LinearProgram:\n",
    "    def __init__(self, A: np.ndarray, b: np.ndarray, c: np.ndarray):\n",
    "        n = A.shape[0]\n",
    "        self.A = np.concatenate([A, np.eye(n)], axis=1)\n",
    "        # self.b = np.concatenate([b, np.zeros(n)])\n",
    "        self.b = b\n",
    "        self.c = np.concatenate([c, np.zeros(n)])\n",
    "        \n",
    "    def __repr__(self):\n",
    "        return pp.pformat({\"A\": self.A, \"b\": self.b, \"c\": self.c})"
   ]
  },
  {
   "cell_type": "code",
   "execution_count": 3,
   "metadata": {},
   "outputs": [],
   "source": [
    "def get_vertex(B: np.ndarray, lp: 'LinearProgram'):\n",
    "    A, b, c = lp.A, lp.b, lp.c\n",
    "    b_inds = np.sort(B)\n",
    "    AB = A[:, b_inds]\n",
    "    b = b[b_inds]\n",
    "    xb = np.linalg.solve(AB, b)\n",
    "    x = np.zeros_like(c)\n",
    "    x[b_inds] = xb\n",
    "    return x"
   ]
  },
  {
   "cell_type": "code",
   "execution_count": 4,
   "metadata": {},
   "outputs": [],
   "source": [
    "A = np.array([ [-1.0, -1.0, 0.0, 1.0], [1.0, -1.0, -1.0, -2.0] ])\n",
    "b = np.array([ 1.0, -2.0, 0.0, 4.0 ])\n",
    "c = np.array([ 2.0, 1.0 ])\n",
    "lp = LinearProgram(A, b, c)"
   ]
  },
  {
   "cell_type": "code",
   "execution_count": 5,
   "metadata": {},
   "outputs": [
    {
     "data": {
      "text/plain": [
       "array([ 0.,  2., -2.,  0.])"
      ]
     },
     "execution_count": 5,
     "metadata": {},
     "output_type": "execute_result"
    }
   ],
   "source": [
    "B = np.array([1, 2])\n",
    "get_vertex(B, lp)"
   ]
  },
  {
   "cell_type": "code",
   "execution_count": 6,
   "metadata": {},
   "outputs": [],
   "source": [
    "def edge_transition(lp: 'LinearProgram', B: np.ndarray, q: int):\n",
    "    A, b, c = lp.A, lp.b, lp.c\n",
    "    n = A.shape[1]\n",
    "    b_inds = np.sort(B)\n",
    "    n_inds = np.array([i for i in range(n) if i not in b])\n",
    "    AB = A[: , b_inds]\n",
    "    xB = np.linalg.solve(AB, b)\n",
    "    d = np.linalg.solve(AB, A[:, n_inds[q]])\n",
    "    p, xqp = 0, np.inf\n",
    "    \n",
    "    for i in range(len(d)):\n",
    "        if d[i] > 0:\n",
    "            v = xB[i] / d[i]\n",
    "            if v < xqp:\n",
    "                p, xqp = i, v\n",
    "    \n",
    "    return (p, xqp)"
   ]
  },
  {
   "cell_type": "code",
   "execution_count": 7,
   "metadata": {},
   "outputs": [
    {
     "data": {
      "text/plain": [
       "(1, 1.0)"
      ]
     },
     "execution_count": 7,
     "metadata": {},
     "output_type": "execute_result"
    }
   ],
   "source": [
    "A = np.array([ [1, 1], [-4, 2] ])\n",
    "b = np.array([ 9, 2 ])\n",
    "c = np.array([ 3, -1 ])\n",
    "lp = LinearProgram(A, b, c)\n",
    "B = np.array([2, 3])\n",
    "q = 1\n",
    "edge_transition(lp, B, q)"
   ]
  },
  {
   "cell_type": "code",
   "execution_count": 8,
   "metadata": {},
   "outputs": [],
   "source": [
    "def step_lp(lp: 'LinearProgram', B: np.ndarray):\n",
    "    A, b, c = lp.A, lp.b, lp.c\n",
    "    n = A.shape[1]\n",
    "    b_inds = np.sort(B)\n",
    "    n_inds = np.array([i for i in range(n) if (i not in b_inds)])\n",
    "    print(b_inds)\n",
    "    print(n_inds)\n",
    "    AB = A[: , b_inds]\n",
    "    AV = A[:, n_inds]\n",
    "    xB = np.linalg.solve(AB, b)\n",
    "    cB = c[b_inds]\n",
    "    lam = np.linalg.solve(AB.T, cB)\n",
    "    cV = c[n_inds]\n",
    "    muV = cV - AV.T @ lam\n",
    "\n",
    "    print(xB)\n",
    "    print(lam)\n",
    "    print(muV)\n",
    "    \n",
    "    q, p, xqp, delta = 0, 0, np.inf, np.inf\n",
    "    \n",
    "    for i in range(len(muV)):\n",
    "        if muV[i] < 0:\n",
    "            pi, xip = edge_transition(lp, B, i)\n",
    "            if muV[i] * xip < delta:\n",
    "                q, p, xqp, delta = i, pi, xip, muV[i] * xip\n",
    "\n",
    "    if q == 0:\n",
    "        return (B, True)\n",
    "    \n",
    "    if xqp == np.inf:\n",
    "        raise(ValueError(\"Unbounded\"))\n",
    "    \n",
    "    j = B.tolist().index(b_inds[p])\n",
    "    B[j] = n_inds[q]\n",
    "    \n",
    "    return (B, False)"
   ]
  },
  {
   "cell_type": "code",
   "execution_count": 9,
   "metadata": {},
   "outputs": [],
   "source": [
    "def minimize_lp(B, lp):\n",
    "    done = False\n",
    "    \n",
    "    while not done:\n",
    "        B, done = step_lp(lp, B)\n",
    "    \n",
    "    return B"
   ]
  },
  {
   "cell_type": "code",
   "execution_count": 10,
   "metadata": {},
   "outputs": [
    {
     "name": "stdout",
     "output_type": "stream",
     "text": [
      "[2 3]\n",
      "[0 1]\n",
      "[9. 2.]\n",
      "[0. 0.]\n",
      "[ 3. -1.]\n",
      "[1 2]\n",
      "[0 3]\n",
      "[1. 8.]\n",
      "[ 0.  -0.5]\n",
      "[1.  0.5]\n"
     ]
    }
   ],
   "source": [
    "A = np.array([ [1, 1], [-4, 2] ])\n",
    "b = np.array([ 9, 2 ])\n",
    "c = np.array([ 3, -1 ])\n",
    "lp = LinearProgram(A, b, c)\n",
    "B = np.array([2, 3])\n",
    "\n",
    "B  = minimize_lp(B, lp)"
   ]
  },
  {
   "cell_type": "code",
   "execution_count": 11,
   "metadata": {},
   "outputs": [
    {
     "data": {
      "text/plain": [
       "array([2, 1])"
      ]
     },
     "execution_count": 11,
     "metadata": {},
     "output_type": "execute_result"
    }
   ],
   "source": [
    "B"
   ]
  },
  {
   "cell_type": "code",
   "execution_count": 12,
   "metadata": {},
   "outputs": [
    {
     "data": {
      "text/plain": [
       "array([[1., 1.],\n",
       "       [0., 2.]])"
      ]
     },
     "execution_count": 12,
     "metadata": {},
     "output_type": "execute_result"
    }
   ],
   "source": [
    "lp.A[: , B]"
   ]
  },
  {
   "cell_type": "code",
   "execution_count": 13,
   "metadata": {},
   "outputs": [
    {
     "data": {
      "text/plain": [
       "array([[1., 1.],\n",
       "       [2., 0.]])"
      ]
     },
     "execution_count": 13,
     "metadata": {},
     "output_type": "execute_result"
    }
   ],
   "source": [
    "lp.A[: , [1, 2]]"
   ]
  },
  {
   "cell_type": "code",
   "execution_count": 14,
   "metadata": {},
   "outputs": [
    {
     "data": {
      "text/plain": [
       "array([1., 8.])"
      ]
     },
     "execution_count": 14,
     "metadata": {},
     "output_type": "execute_result"
    }
   ],
   "source": [
    "AB = lp.A[: , [1, 2]]\n",
    "np.linalg.solve(AB, b)"
   ]
  },
  {
   "cell_type": "code",
   "execution_count": 15,
   "metadata": {},
   "outputs": [
    {
     "name": "stdout",
     "output_type": "stream",
     "text": [
      "[3 4]\n",
      "[0 1 2]\n",
      "[10. 15.]\n",
      "[0. 0.]\n",
      "[-2. -3. -4.]\n",
      "[2 3]\n",
      "[0 1 4]\n",
      "[5. 5.]\n",
      "[ 0.         -1.33333333]\n",
      "[0.66666667 3.66666667 1.33333333]\n"
     ]
    },
    {
     "data": {
      "text/plain": [
       "array([3, 2])"
      ]
     },
     "execution_count": 15,
     "metadata": {},
     "output_type": "execute_result"
    }
   ],
   "source": [
    "A = np.array([ [3.0, 2.0, 1.0], [2.0, 5.0, 3.0] ])\n",
    "b = np.array([ 10.0, 15.0 ])\n",
    "c = np.array([ -2.0, -3.0, -4.0])\n",
    "\n",
    "lp = LinearProgram(A, b, c)\n",
    "B = np.array([3, 4])\n",
    "\n",
    "B  = minimize_lp(B, lp)\n",
    "B"
   ]
  },
  {
   "cell_type": "code",
   "execution_count": 16,
   "metadata": {},
   "outputs": [
    {
     "data": {
      "text/plain": [
       "array([5., 5.])"
      ]
     },
     "execution_count": 16,
     "metadata": {},
     "output_type": "execute_result"
    }
   ],
   "source": [
    "AB = lp.A[: , B]\n",
    "np.linalg.solve(AB, b)"
   ]
  },
  {
   "cell_type": "code",
   "execution_count": 17,
   "metadata": {},
   "outputs": [
    {
     "name": "stdout",
     "output_type": "stream",
     "text": [
      "[0. 0. 0. 0. 0.]\n",
      "[0. 0. 5.]\n"
     ]
    }
   ],
   "source": [
    "x = np.zeros(lp.A.shape[1])\n",
    "print(x)\n",
    "x[B] = np.linalg.solve(AB, b)\n",
    "print(x[:3])"
   ]
  },
  {
   "cell_type": "code",
   "execution_count": 18,
   "metadata": {},
   "outputs": [
    {
     "data": {
      "text/plain": [
       "-20.0"
      ]
     },
     "execution_count": 18,
     "metadata": {},
     "output_type": "execute_result"
    }
   ],
   "source": [
    "x[:3].dot(c)"
   ]
  },
  {
   "cell_type": "code",
   "execution_count": 19,
   "metadata": {},
   "outputs": [
    {
     "name": "stdout",
     "output_type": "stream",
     "text": [
      "Status: Optimal\n",
      "Objective value: -20.0\n",
      "x0 = 0.0\n",
      "x1 = 0.0\n",
      "x2 = 5.0\n"
     ]
    }
   ],
   "source": [
    "import pulp\n",
    "\n",
    "# Create a linear programming problem (minimization)\n",
    "lp_problem = pulp.LpProblem(\"MinimizationProblem\", pulp.LpMinimize)\n",
    "\n",
    "# Define variables (assuming they are non-negative)\n",
    "x = [pulp.LpVariable(f\"x{i}\", lowBound=0) for i in range(len(c))]\n",
    "\n",
    "# Set the objective function\n",
    "lp_problem += pulp.lpDot(c, x), \"ObjectiveFunction\"\n",
    "\n",
    "# Add constraints\n",
    "for i in range(len(b)):\n",
    "    lp_problem += (pulp.lpDot(A[i], x) <= b[i], f\"Constraint_{i+1}\")\n",
    "\n",
    "# Solve the problem\n",
    "lp_problem.solve()\n",
    "\n",
    "# Print the results\n",
    "print(\"Status:\", pulp.LpStatus[lp_problem.status])\n",
    "print(\"Objective value:\", pulp.value(lp_problem.objective))\n",
    "for i, var in enumerate(x):\n",
    "    print(f\"x{i} = {var.value()}\")\n"
   ]
  }
 ],
 "metadata": {
  "kernelspec": {
   "display_name": "Python 3",
   "language": "python",
   "name": "python3"
  },
  "language_info": {
   "codemirror_mode": {
    "name": "ipython",
    "version": 3
   },
   "file_extension": ".py",
   "mimetype": "text/x-python",
   "name": "python",
   "nbconvert_exporter": "python",
   "pygments_lexer": "ipython3",
   "version": "3.11.6"
  }
 },
 "nbformat": 4,
 "nbformat_minor": 2
}
