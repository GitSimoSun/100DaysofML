{
 "cells": [
  {
   "cell_type": "code",
   "execution_count": 14,
   "metadata": {},
   "outputs": [],
   "source": [
    "from cvxopt import matrix, solvers"
   ]
  },
  {
   "cell_type": "code",
   "execution_count": 15,
   "metadata": {},
   "outputs": [
    {
     "name": "stdout",
     "output_type": "stream",
     "text": [
      "     pcost       dcost       gap    pres   dres   k/t\n",
      " 0:  2.6471e+00 -7.0588e-01  2e+01  8e-01  2e+00  1e+00\n",
      " 1:  3.0726e+00  2.8437e+00  1e+00  1e-01  2e-01  3e-01\n",
      " 2:  2.4891e+00  2.4808e+00  1e-01  1e-02  2e-02  5e-02\n",
      " 3:  2.4999e+00  2.4998e+00  1e-03  1e-04  2e-04  5e-04\n",
      " 4:  2.5000e+00  2.5000e+00  1e-05  1e-06  2e-06  5e-06\n",
      " 5:  2.5000e+00  2.5000e+00  1e-07  1e-08  2e-08  5e-08\n",
      "Optimal solution found.\n"
     ]
    }
   ],
   "source": [
    "A = matrix([ [-1.0, -1.0, 0.0, 1.0], [1.0, -1.0, -1.0, -2.0] ])\n",
    "b = matrix([ 1.0, -2.0, 0.0, 4.0 ])\n",
    "c = matrix([ 2.0, 1.0 ])\n",
    "\n",
    "sol=solvers.lp(c,A,b)"
   ]
  },
  {
   "cell_type": "code",
   "execution_count": 16,
   "metadata": {},
   "outputs": [
    {
     "name": "stdout",
     "output_type": "stream",
     "text": [
      "[ 5.00e-01]\n",
      "[ 1.50e+00]\n",
      "\n"
     ]
    }
   ],
   "source": [
    "print(sol['x'])"
   ]
  },
  {
   "cell_type": "code",
   "execution_count": 17,
   "metadata": {},
   "outputs": [
    {
     "data": {
      "text/plain": [
       "{'x': <2x1 matrix, tc='d'>,\n",
       " 'y': <0x1 matrix, tc='d'>,\n",
       " 's': <4x1 matrix, tc='d'>,\n",
       " 'z': <4x1 matrix, tc='d'>,\n",
       " 'status': 'optimal',\n",
       " 'gap': 1.397494573844991e-07,\n",
       " 'relative gap': 5.5899783362287226e-08,\n",
       " 'primal objective': 2.4999999895543077,\n",
       " 'dual objective': 2.4999999817312535,\n",
       " 'primal infeasibility': 1.1368786055649966e-08,\n",
       " 'dual infeasibility': 2.25787897717751e-08,\n",
       " 'primal slack': 2.038839954852376e-08,\n",
       " 'dual slack': 3.5299159727910242e-09,\n",
       " 'residual as primal infeasibility certificate': None,\n",
       " 'residual as dual infeasibility certificate': None,\n",
       " 'iterations': 5}"
      ]
     },
     "execution_count": 17,
     "metadata": {},
     "output_type": "execute_result"
    }
   ],
   "source": [
    "sol"
   ]
  },
  {
   "cell_type": "code",
   "execution_count": 18,
   "metadata": {},
   "outputs": [
    {
     "name": "stdout",
     "output_type": "stream",
     "text": [
      "     pcost       dcost       gap    pres   dres\n",
      " 0:  1.8889e+00  7.7778e-01  1e+00  2e-16  2e+00\n",
      " 1:  1.8769e+00  1.8320e+00  4e-02  1e-16  6e-02\n",
      " 2:  1.8750e+00  1.8739e+00  1e-03  2e-16  5e-04\n",
      " 3:  1.8750e+00  1.8750e+00  1e-05  1e-16  5e-06\n",
      " 4:  1.8750e+00  1.8750e+00  1e-07  3e-16  5e-08\n",
      "Optimal solution found.\n"
     ]
    }
   ],
   "source": [
    "Q = 2*matrix([ [2, .5], [.5, 1] ])\n",
    "p = matrix([1.0, 1.0])\n",
    "G = matrix([[-1.0,0.0],[0.0,-1.0]])\n",
    "h = matrix([0.0,0.0])\n",
    "A = matrix([1.0, 1.0], (1,2))\n",
    "b = matrix(1.0)\n",
    "sol = solvers.qp(Q, p, G, h, A, b)"
   ]
  },
  {
   "cell_type": "code",
   "execution_count": 19,
   "metadata": {},
   "outputs": [
    {
     "name": "stdout",
     "output_type": "stream",
     "text": [
      "[ 2.50e-01]\n",
      "[ 7.50e-01]\n",
      "\n"
     ]
    }
   ],
   "source": [
    "print(sol[\"x\"])"
   ]
  },
  {
   "cell_type": "code",
   "execution_count": 20,
   "metadata": {},
   "outputs": [
    {
     "data": {
      "text/plain": [
       "{'x': <2x1 matrix, tc='d'>,\n",
       " 'y': <1x1 matrix, tc='d'>,\n",
       " 's': <2x1 matrix, tc='d'>,\n",
       " 'z': <2x1 matrix, tc='d'>,\n",
       " 'status': 'optimal',\n",
       " 'gap': 1.0527028380515541e-07,\n",
       " 'relative gap': 5.614415451491492e-08,\n",
       " 'primal objective': 1.875000000000018,\n",
       " 'dual objective': 1.8749998947297342,\n",
       " 'primal infeasibility': 3.3306690738754696e-16,\n",
       " 'dual infeasibility': 5.314759355944772e-08,\n",
       " 'primal slack': 0.2500000952702475,\n",
       " 'dual slack': 1.0000000000000035e-08,\n",
       " 'iterations': 4}"
      ]
     },
     "execution_count": 20,
     "metadata": {},
     "output_type": "execute_result"
    }
   ],
   "source": [
    "sol"
   ]
  }
 ],
 "metadata": {
  "kernelspec": {
   "display_name": "Python 3",
   "language": "python",
   "name": "python3"
  },
  "language_info": {
   "codemirror_mode": {
    "name": "ipython",
    "version": 3
   },
   "file_extension": ".py",
   "mimetype": "text/x-python",
   "name": "python",
   "nbconvert_exporter": "python",
   "pygments_lexer": "ipython3",
   "version": "3.11.6"
  }
 },
 "nbformat": 4,
 "nbformat_minor": 2
}
